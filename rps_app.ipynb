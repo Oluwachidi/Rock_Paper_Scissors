{
 "cells": [
  {
   "cell_type": "code",
   "execution_count": 1,
   "id": "abb3bb40",
   "metadata": {},
   "outputs": [
    {
     "name": "stderr",
     "output_type": "stream",
     "text": [
      "2021-09-15 22:57:25.893777: W tensorflow/stream_executor/platform/default/dso_loader.cc:64] Could not load dynamic library 'libcudart.so.11.0'; dlerror: libcudart.so.11.0: cannot open shared object file: No such file or directory\n",
      "2021-09-15 22:57:25.893834: I tensorflow/stream_executor/cuda/cudart_stub.cc:29] Ignore above cudart dlerror if you do not have a GPU set up on your machine.\n"
     ]
    }
   ],
   "source": [
    "import tensorflow as tf\n",
    "import streamlit as st\n",
    "from PIL import Image, ImageOps\n",
    "import numpy as np"
   ]
  },
  {
   "cell_type": "markdown",
   "id": "96db42d2",
   "metadata": {},
   "source": [
    "# Load the Trained model"
   ]
  },
  {
   "cell_type": "code",
   "execution_count": 2,
   "id": "9549cd73",
   "metadata": {},
   "outputs": [
    {
     "name": "stderr",
     "output_type": "stream",
     "text": [
      "2021-09-15 22:57:30.677994: W tensorflow/stream_executor/platform/default/dso_loader.cc:64] Could not load dynamic library 'libcuda.so.1'; dlerror: libcuda.so.1: cannot open shared object file: No such file or directory\n",
      "2021-09-15 22:57:30.678081: W tensorflow/stream_executor/cuda/cuda_driver.cc:326] failed call to cuInit: UNKNOWN ERROR (303)\n",
      "2021-09-15 22:57:30.678112: I tensorflow/stream_executor/cuda/cuda_diagnostics.cc:156] kernel driver does not appear to be running on this host (DESKTOP-BM2AJIC): /proc/driver/nvidia/version does not exist\n",
      "2021-09-15 22:57:30.678395: I tensorflow/core/platform/cpu_feature_guard.cc:142] This TensorFlow binary is optimized with oneAPI Deep Neural Network Library (oneDNN) to use the following CPU instructions in performance-critical operations:  AVX2 FMA\n",
      "To enable them in other operations, rebuild TensorFlow with the appropriate compiler flags.\n"
     ]
    }
   ],
   "source": [
    "model = tf.keras.models.load_model('my_model.hdf5')"
   ]
  },
  {
   "cell_type": "markdown",
   "id": "b67c7d64",
   "metadata": {},
   "source": [
    "# Write a Header and creat a File uploader"
   ]
  },
  {
   "cell_type": "code",
   "execution_count": 3,
   "id": "d5365f1a",
   "metadata": {},
   "outputs": [
    {
     "name": "stderr",
     "output_type": "stream",
     "text": [
      "2021-09-15 22:57:32.574 \n",
      "  \u001b[33m\u001b[1mWarning:\u001b[0m to view this Streamlit app on a browser, run it with the following\n",
      "  command:\n",
      "\n",
      "    streamlit run /home/chidi/.pyenv/versions/3.8.6/envs/lewagon/lib/python3.8/site-packages/ipykernel_launcher.py [ARGUMENTS]\n"
     ]
    }
   ],
   "source": [
    "st.write(\"\"\"\n",
    "        # Rock_Paper_Scissor Hand Sign Prediction\n",
    "        \"\"\")\n",
    "\n",
    "st.write(\"This is a simple image classification web app to predict rock-paper-scissors hand sign\")"
   ]
  },
  {
   "cell_type": "code",
   "execution_count": 4,
   "id": "4600066e",
   "metadata": {},
   "outputs": [],
   "source": [
    "file = st.file_uploader(\"Please upload an image file\", type=[\"jpg\",\"png\"])"
   ]
  },
  {
   "cell_type": "markdown",
   "id": "170f8bce",
   "metadata": {},
   "source": [
    "# Preprocess the image the user has uploaded then make prediction."
   ]
  },
  {
   "cell_type": "code",
   "execution_count": 5,
   "id": "d6a8128c",
   "metadata": {},
   "outputs": [],
   "source": [
    "def import_and_predict(image_data, model):\n",
    "    size = (75,75)    \n",
    "    image = ImageOps.fit(image_data, size, Image.ANTIALIAS)\n",
    "    image = image.convert('RGB')\n",
    "    image = np.asarray(image)\n",
    "#     img = cv2.cvtColor(image, cv2.COLOR_BGR2RGB)\n",
    "#     img_resize = (cv2.resize(img, dsize=(75, 75), interpolation=cv2.INTER_CUBIC))/255.\n",
    "    image = (image.astype(np.float32) / 255.0)\n",
    "    img_reshape = image[np.newaxis,...]\n",
    "\n",
    "    prediction = model.predict(img_reshape)\n",
    "\n",
    "    return prediction    \n",
    "                    "
   ]
  },
  {
   "cell_type": "code",
   "execution_count": 6,
   "id": "0ab378f9",
   "metadata": {},
   "outputs": [],
   "source": [
    "if file is None:\n",
    "    st.text(\"Please upload an image file\")\n",
    "else:\n",
    "    image = Image.open(file)\n",
    "    st.image(image, use_column_width=True)\n",
    "    prediction = import_and_predict(image, model)\n",
    "    \n",
    "    if np.argmax(prediction) ==0:\n",
    "        st.write(\"It is paper!\")\n",
    "    elif np.argmax(prediction) ==1:\n",
    "        st.write(\"It is rock!\")\n",
    "    else:\n",
    "        st.write(\"It is scissors!\")\n",
    "    st.text(\"Probability (0: Paper, 1: Rock, 2: Scissor)\")\n",
    "    st.write(prediction)"
   ]
  },
  {
   "cell_type": "code",
   "execution_count": 7,
   "id": "d2410f37",
   "metadata": {},
   "outputs": [
    {
     "data": {
      "text/plain": [
       "'1.18.5'"
      ]
     },
     "execution_count": 7,
     "metadata": {},
     "output_type": "execute_result"
    }
   ],
   "source": [
    "np.__version__"
   ]
  }
 ],
 "metadata": {
  "kernelspec": {
   "display_name": "Python 3 (ipykernel)",
   "language": "python",
   "name": "python3"
  },
  "language_info": {
   "codemirror_mode": {
    "name": "ipython",
    "version": 3
   },
   "file_extension": ".py",
   "mimetype": "text/x-python",
   "name": "python",
   "nbconvert_exporter": "python",
   "pygments_lexer": "ipython3",
   "version": "3.8.6"
  },
  "toc": {
   "base_numbering": 1,
   "nav_menu": {},
   "number_sections": true,
   "sideBar": true,
   "skip_h1_title": false,
   "title_cell": "Table of Contents",
   "title_sidebar": "Contents",
   "toc_cell": false,
   "toc_position": {},
   "toc_section_display": true,
   "toc_window_display": false
  }
 },
 "nbformat": 4,
 "nbformat_minor": 5
}
